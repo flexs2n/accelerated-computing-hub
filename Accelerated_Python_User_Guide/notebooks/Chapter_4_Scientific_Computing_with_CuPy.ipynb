{
 "cells": [
  {
   "attachments": {},
   "cell_type": "markdown",
   "id": "0d57565e-f93f-4878-bebc-deb6ca2fc195",
   "metadata": {},
   "source": [
    "# Chapter 4: Scientific Computing with CuPy\n",
    "\n",
    "<img src=\"images/cupy_title.png\" style=\"width:600px;\"/>\n",
    "\n",
    "CuPy is a NumPy and SciPy-compatible array library for GPU-accelerated computing with Python. CuPy acts as a drop-in replacement to run existing NumPy and SciPy code on NVIDIA CUDA or AMD ROCm platforms.\n",
    "\n",
    "CuPy is part of the Chainer project but has maintainers from many organisations including NVIDIA. CuPy implements the familiar Numpy API but with the backend written in CUDA C++. This allows folks who are already familiar with Numpy to get GPU acceleration out of the box quickly by just switching out an import.\n",
    "\n",
    "## Links to Handy References\n",
    "CuPy User Guide for more information: https://docs.cupy.dev/en/stable/user_guide/index.html \n",
    "\n",
    "CuPy API Reference: https://docs.cupy.dev/en/stable/reference/index.html \n",
    "\n",
    "CuPy Github Repository (includes more examples): https://github.com/cupy/cupy \n",
    "\n",
    "NumPy User Guide: https://numpy.org/doc/stable/user/ \n",
    "\n",
    "NumPy API Guide: https://numpy.org/doc/stable/reference/index.html \n"
   ]
  },
  {
   "cell_type": "markdown",
   "id": "93b74393-0393-4d24-be0e-d510b4f23c02",
   "metadata": {},
   "source": [
    "# Examples"
   ]
  },
  {
   "cell_type": "markdown",
   "id": "77d290b7-c8de-4b8b-b3f0-6a8ea1c9dd16",
   "metadata": {},
   "source": [
    "## A Simple Conversion from NumPy to CuPy"
   ]
  },
  {
   "cell_type": "code",
   "execution_count": null,
   "id": "e2393610-8392-4d66-b86b-3c5abc6b2447",
   "metadata": {},
   "outputs": [],
   "source": [
    "import numpy as np\n",
    "x_cpu = np.ones((1000,500,500))\n",
    "\n",
    "x_cpu"
   ]
  },
  {
   "cell_type": "code",
   "execution_count": null,
   "id": "1b8965c4-ea45-4c68-9c35-b076fa7656dd",
   "metadata": {},
   "outputs": [],
   "source": [
    "import cupy as cp\n",
    "x_gpu = cp.ones((1000,500,500))\n",
    "x_cpu = cp.asnumpy(x_gpu)\n",
    "\n",
    "x_cpu"
   ]
  },
  {
   "cell_type": "markdown",
   "id": "b16fd541-ab9d-43fa-9810-9e5e50981e3b",
   "metadata": {},
   "source": [
    "## A More Complicated Conversion from NumPy to CuPy"
   ]
  },
  {
   "cell_type": "code",
   "execution_count": null,
   "id": "d0b73208-a9f9-4a2e-b76d-c811bfc56c92",
   "metadata": {},
   "outputs": [],
   "source": [
    "import numpy as np\n",
    "\n",
    "x_cpu = np.random.random((1000, 1000))\n",
    "x_cpu *= 2 \n",
    "u, s, v = np.linalg.svd(x_cpu)\n",
    "\n",
    "u, s, v"
   ]
  },
  {
   "cell_type": "code",
   "execution_count": null,
   "id": "9818a469-a984-4cd9-9ebb-2617fe141f71",
   "metadata": {},
   "outputs": [],
   "source": [
    "import cupy as cp\n",
    "\n",
    "x_gpu = cp.random.random((1000, 1000))\n",
    "x_gpu *= 2 \n",
    "u, s, v = cp.linalg.svd(x_gpu)\n",
    "\n",
    "u, s, v"
   ]
  },
  {
   "cell_type": "markdown",
   "id": "d99830d2-e277-4de2-b10d-88a044250d0e",
   "metadata": {},
   "source": [
    "## Adding a User-defined Kernel Function"
   ]
  },
  {
   "cell_type": "code",
   "execution_count": null,
   "id": "e90030b7-da4c-44b3-897d-cdfa9828e2d6",
   "metadata": {},
   "outputs": [],
   "source": [
    "import cupy\n",
    "from cupyx import jit\n",
    "\n",
    "\n",
    "@jit.rawkernel()\n",
    "def elementwise_copy(x, y, size):\n",
    "    tid = jit.blockIdx.x * jit.blockDim.x + jit.threadIdx.x\n",
    "    ntid = jit.gridDim.x * jit.blockDim.x\n",
    "    for i in range(tid, size, ntid):\n",
    "        y[i] = x[i]\n",
    "\n",
    "\n",
    "size = cupy.uint32(2 ** 22)\n",
    "x = cupy.random.normal(size=(size,), dtype=cupy.float32)\n",
    "y = cupy.empty((size,), dtype=cupy.float32)\n",
    "\n",
    "elementwise_copy((128,), (1024,), (x, y, size))\n",
    "\n",
    "elementwise_copy[128, 1024](x, y, size)\n",
    "\n",
    "assert (x == y).all()"
   ]
  },
  {
   "cell_type": "code",
   "execution_count": null,
   "id": "806f284e-51e5-461a-a45c-c21bb0eabf95",
   "metadata": {},
   "outputs": [],
   "source": []
  }
 ],
 "metadata": {
  "kernelspec": {
   "display_name": "Python 3 (ipykernel)",
   "language": "python",
   "name": "python3"
  },
  "language_info": {
   "codemirror_mode": {
    "name": "ipython",
    "version": 3
   },
   "file_extension": ".py",
   "mimetype": "text/x-python",
   "name": "python",
   "nbconvert_exporter": "python",
   "pygments_lexer": "ipython3",
   "version": "3.11.7"
  }
 },
 "nbformat": 4,
 "nbformat_minor": 5
}

